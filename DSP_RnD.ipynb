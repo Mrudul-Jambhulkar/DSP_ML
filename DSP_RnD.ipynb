{
  "nbformat": 4,
  "nbformat_minor": 0,
  "metadata": {
    "colab": {
      "provenance": []
    },
    "kernelspec": {
      "name": "python3",
      "display_name": "Python 3"
    },
    "language_info": {
      "name": "python"
    }
  },
  "cells": [
    {
      "cell_type": "markdown",
      "source": [
        "**EE 338**\n",
        "\n",
        "**DSP RnD** (Group 25)\n",
        "\n",
        "* Shounak Das (21D070068)\n",
        "\n",
        "* Mrudul Nepalchand Jambhulkar (21D070044)\n",
        "\n",
        "* Chinta Siva Madhav(21D070020)\n"
      ],
      "metadata": {
        "id": "qa5VWXyS1QB-"
      }
    },
    {
      "cell_type": "code",
      "execution_count": 1,
      "metadata": {
        "id": "zjJmJXxFvgil"
      },
      "outputs": [],
      "source": [
        "# Importing the necessary libraries\n",
        "import tensorflow as tf\n",
        "from tensorflow.keras.datasets import cifar10\n",
        "from tensorflow.keras.models import Sequential\n",
        "from tensorflow.keras.layers import Conv2D, MaxPooling2D, Flatten, Dense\n",
        "from keras.optimizers import Adam\n",
        "from tensorflow.keras.utils import to_categorical\n",
        "import matplotlib.pyplot as plt\n",
        "import inspect\n",
        "import importlib\n"
      ]
    },
    {
      "cell_type": "code",
      "source": [
        "# Define the function to add gradient noise to an optimizer\n",
        "def add_gradient_noise(BaseOptimizer, keras=None):\n",
        "    if keras is None:\n",
        "        if hasattr(BaseOptimizer, '__module__') and BaseOptimizer.__module__.startswith('keras'):\n",
        "            keras = importlib.import_module('keras')\n",
        "        else:\n",
        "            keras = importlib.import_module('tensorflow.keras')\n",
        "\n",
        "    K = keras.backend\n",
        "    if not (\n",
        "        inspect.isclass(BaseOptimizer) and\n",
        "        issubclass(BaseOptimizer, keras.optimizers.Optimizer)\n",
        "    ):\n",
        "        raise ValueError(\n",
        "            'add_gradient_noise() expects a valid Keras optimizer'\n",
        "        )\n",
        "\n",
        "    def _get_shape(x):\n",
        "        if hasattr(x, 'dense_shape'):\n",
        "            return x.dense_shape\n",
        "\n",
        "        return K.shape(x)\n",
        "\n",
        "    # Defining the NoisyOptimizer class, inheriting from the provided optimizer class\n",
        "    class NoisyOptimizer(BaseOptimizer):\n",
        "        def __init__(self, noise_eta=0.3, noise_gamma=0.55, **kwargs):\n",
        "            super(NoisyOptimizer, self).__init__(**kwargs)\n",
        "            with K.name_scope(self.__class__.__name__):\n",
        "                self.noise_eta = K.variable(noise_eta, name='noise_eta')\n",
        "                self.noise_gamma = K.variable(noise_gamma, name='noise_gamma')\n",
        "\n",
        "        def get_gradients(self, loss, params):\n",
        "            grads = super(NoisyOptimizer, self).get_gradients(loss, params)\n",
        "\n",
        "            # Adding decayed Gaussian noise to gradients\n",
        "            t = K.cast(self.iterations, K.dtype(grads[0]))\n",
        "            variance = self.noise_eta / ((1 + t) ** self.noise_gamma)\n",
        "\n",
        "            grads = [\n",
        "                grad + K.random_normal(\n",
        "                    _get_shape(grad),\n",
        "                    mean=0.0,\n",
        "                    stddev=K.sqrt(variance),\n",
        "                    dtype=K.dtype(grads[0])\n",
        "                )\n",
        "                for grad in grads\n",
        "            ]\n",
        "\n",
        "            return grads\n",
        "\n",
        "        def get_config(self):\n",
        "            # Adding noise parameters to the optimizer's configuration\n",
        "            config = {'noise_eta': float(K.get_value(self.noise_eta)),\n",
        "                      'noise_gamma': float(K.get_value(self.noise_gamma))}\n",
        "            base_config = super(NoisyOptimizer, self).get_config()\n",
        "            return dict(list(base_config.items()) + list(config.items()))\n",
        "\n",
        "    NoisyOptimizer.__name__ = 'Noisy{}'.format(BaseOptimizer.__name__)\n",
        "\n",
        "    return NoisyOptimizer"
      ],
      "metadata": {
        "id": "Y4ulJnFgw7pk"
      },
      "execution_count": 2,
      "outputs": []
    },
    {
      "cell_type": "code",
      "source": [
        "# Loading CIFAR-10 dataset\n",
        "(x_train, y_train), (x_test, y_test) = cifar10.load_data()\n",
        "x_train = x_train.astype('float32') / 255.0\n",
        "x_test = x_test.astype('float32') / 255.0\n",
        "y_train = to_categorical(y_train, 10)\n",
        "y_test = to_categorical(y_test, 10)\n"
      ],
      "metadata": {
        "colab": {
          "base_uri": "https://localhost:8080/"
        },
        "id": "hAAo0S9WxAE8",
        "outputId": "476ed502-c00e-4230-bbf6-266f9935a68b"
      },
      "execution_count": 3,
      "outputs": [
        {
          "output_type": "stream",
          "name": "stdout",
          "text": [
            "Downloading data from https://www.cs.toronto.edu/~kriz/cifar-10-python.tar.gz\n",
            "170498071/170498071 [==============================] - 11s 0us/step\n"
          ]
        }
      ]
    },
    {
      "cell_type": "code",
      "source": [
        "# Defining the model architecture\n",
        "model = Sequential([\n",
        "    Conv2D(32, (3, 3), activation='relu', input_shape=(32, 32, 3)),     # Convolutional layer with 32 filters of size 3x3, ReLU activation, and input shape of (32, 32, 3)\n",
        "    MaxPooling2D((2, 2)),    # Max pooling layer with pool size 2x2\n",
        "    Flatten(),    # Flatten layer to convert 2D feature maps into a 1D feature vector\n",
        "    Dense(128, activation='relu'),    # Fully connected (Dense) layer with 128 neurons and ReLU activation\n",
        "    Dense(10, activation='softmax')    # Output layer with 10 neurons (for 10 classes in CIFAR-10) and softmax activation\n",
        "    ])\n",
        "# Adding gradient noise to the optimizer\n",
        "NoisyAdam = add_gradient_noise(Adam)"
      ],
      "metadata": {
        "id": "Lmwq5kwExA-f"
      },
      "execution_count": 4,
      "outputs": []
    },
    {
      "cell_type": "code",
      "source": [
        "# Training the model\n",
        "with tf.device('/GPU:0'):     # Using GPU for faster training\n",
        "    model.compile(optimizer=NoisyAdam(), loss='categorical_crossentropy', metrics=['accuracy'])\n",
        "\n",
        "    history = model.fit(x_train, y_train, epochs=10, batch_size=64, validation_data=(x_test, y_test))\n"
      ],
      "metadata": {
        "colab": {
          "base_uri": "https://localhost:8080/"
        },
        "id": "botuJ3ohxfYY",
        "outputId": "d57296d7-9e8f-4df5-ce62-6747c2840aaf"
      },
      "execution_count": 5,
      "outputs": [
        {
          "output_type": "stream",
          "name": "stdout",
          "text": [
            "Epoch 1/10\n",
            "782/782 [==============================] - 36s 45ms/step - loss: 1.4750 - accuracy: 0.4747 - val_loss: 1.2838 - val_accuracy: 0.5497\n",
            "Epoch 2/10\n",
            "782/782 [==============================] - 34s 43ms/step - loss: 1.1841 - accuracy: 0.5850 - val_loss: 1.1572 - val_accuracy: 0.6011\n",
            "Epoch 3/10\n",
            "782/782 [==============================] - 33s 43ms/step - loss: 1.0619 - accuracy: 0.6296 - val_loss: 1.0827 - val_accuracy: 0.6247\n",
            "Epoch 4/10\n",
            "782/782 [==============================] - 34s 44ms/step - loss: 0.9593 - accuracy: 0.6672 - val_loss: 1.0660 - val_accuracy: 0.6296\n",
            "Epoch 5/10\n",
            "782/782 [==============================] - 33s 42ms/step - loss: 0.8847 - accuracy: 0.6908 - val_loss: 1.0572 - val_accuracy: 0.6383\n",
            "Epoch 6/10\n",
            "782/782 [==============================] - 34s 44ms/step - loss: 0.8160 - accuracy: 0.7158 - val_loss: 1.0291 - val_accuracy: 0.6502\n",
            "Epoch 7/10\n",
            "782/782 [==============================] - 34s 44ms/step - loss: 0.7492 - accuracy: 0.7408 - val_loss: 1.0288 - val_accuracy: 0.6509\n",
            "Epoch 8/10\n",
            "782/782 [==============================] - 33s 42ms/step - loss: 0.6902 - accuracy: 0.7591 - val_loss: 1.0234 - val_accuracy: 0.6573\n",
            "Epoch 9/10\n",
            "782/782 [==============================] - 34s 43ms/step - loss: 0.6288 - accuracy: 0.7818 - val_loss: 1.0571 - val_accuracy: 0.6553\n",
            "Epoch 10/10\n",
            "782/782 [==============================] - 34s 43ms/step - loss: 0.5747 - accuracy: 0.8015 - val_loss: 1.0917 - val_accuracy: 0.6528\n"
          ]
        }
      ]
    },
    {
      "cell_type": "code",
      "source": [
        "# Plotting epoch vs accuracy\n",
        "plt.plot(history.history['accuracy'], label='Training Accuracy')\n",
        "plt.plot(history.history['val_accuracy'], label='Validation Accuracy')\n",
        "plt.xlabel('Epoch')\n",
        "plt.ylabel('Accuracy')\n",
        "plt.title('Epoch vs Accuracy')\n",
        "plt.legend()\n",
        "plt.show()"
      ],
      "metadata": {
        "colab": {
          "base_uri": "https://localhost:8080/",
          "height": 472
        },
        "id": "ZOYPlj1Y3QYt",
        "outputId": "7a06b2c5-70a7-4da3-f86d-4f17346ac8a0"
      },
      "execution_count": 6,
      "outputs": [
        {
          "output_type": "display_data",
          "data": {
            "text/plain": [
              "<Figure size 640x480 with 1 Axes>"
            ],
            "image/png": "[encoded data removed]"
          },
          "metadata": {}
        }
      ]
    }
  ]
}